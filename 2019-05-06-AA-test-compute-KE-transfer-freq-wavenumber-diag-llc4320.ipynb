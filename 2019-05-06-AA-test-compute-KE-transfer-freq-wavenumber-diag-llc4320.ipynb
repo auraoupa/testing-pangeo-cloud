{
 "cells": [
  {
   "cell_type": "code",
   "execution_count": 1,
   "metadata": {},
   "outputs": [
    {
     "name": "stderr",
     "output_type": "stream",
     "text": [
      "/srv/conda/lib/python3.6/site-packages/dask/config.py:168: YAMLLoadWarning: calling yaml.load() without Loader=... is deprecated, as the default Loader is unsafe. Please read https://msg.pyyaml.org/load for full details.\n",
      "  data = yaml.load(f.read()) or {}\n",
      "/srv/conda/lib/python3.6/site-packages/dask_kubernetes/config.py:13: YAMLLoadWarning: calling yaml.load() without Loader=... is deprecated, as the default Loader is unsafe. Please read https://msg.pyyaml.org/load for full details.\n",
      "  defaults = yaml.load(f)\n"
     ]
    },
    {
     "data": {
      "application/vnd.jupyter.widget-view+json": {
       "model_id": "e302b4853831426b9beefa77781009f2",
       "version_major": 2,
       "version_minor": 0
      },
      "text/plain": [
       "VBox(children=(HTML(value='<h2>KubeCluster</h2>'), HBox(children=(HTML(value='\\n<div>\\n  <style scoped>\\n    .…"
      ]
     },
     "metadata": {},
     "output_type": "display_data"
    }
   ],
   "source": [
    "from dask.distributed import Client, progress\n",
    "# HPC\n",
    "# client = Client(scheduler_file='/glade/scratch/jhamman/scheduler.json')\n",
    "# client\n",
    "\n",
    "from dask_kubernetes import KubeCluster\n",
    "cluster = KubeCluster(n_workers=10)\n",
    "cluster"
   ]
  },
  {
   "cell_type": "code",
   "execution_count": 2,
   "metadata": {},
   "outputs": [
    {
     "data": {
      "text/html": [
       "<table style=\"border: 2px solid white;\">\n",
       "<tr>\n",
       "<td style=\"vertical-align: top; border: 0px solid white\">\n",
       "<h3>Client</h3>\n",
       "<ul>\n",
       "  <li><b>Scheduler: </b>tcp://10.32.0.4:44129\n",
       "  <li><b>Dashboard: </b><a href='/user/0000-0001-7783-5629/proxy/8787/status' target='_blank'>/user/0000-0001-7783-5629/proxy/8787/status</a>\n",
       "</ul>\n",
       "</td>\n",
       "<td style=\"vertical-align: top; border: 0px solid white\">\n",
       "<h3>Cluster</h3>\n",
       "<ul>\n",
       "  <li><b>Workers: </b>0</li>\n",
       "  <li><b>Cores: </b>0</li>\n",
       "  <li><b>Memory: </b>0 B</li>\n",
       "</ul>\n",
       "</td>\n",
       "</tr>\n",
       "</table>"
      ],
      "text/plain": [
       "<Client: scheduler='tcp://10.32.0.4:44129' processes=0 cores=0>"
      ]
     },
     "execution_count": 2,
     "metadata": {},
     "output_type": "execute_result"
    }
   ],
   "source": [
    "client = Client(cluster)\n",
    "client"
   ]
  },
  {
   "cell_type": "code",
   "execution_count": 16,
   "metadata": {},
   "outputs": [],
   "source": [
    "import sys, glob\n",
    "import numpy as np\n",
    "import xarray as xr\n",
    "import xscale.spectral.fft as xfft\n",
    "import xscale \n",
    "import Wavenum_freq_spec_func as wfs\n"
   ]
  },
  {
   "cell_type": "code",
   "execution_count": 4,
   "metadata": {},
   "outputs": [],
   "source": [
    "import cartopy.crs as ccrs\n",
    "import cartopy.feature as cfeature\n",
    "from cartopy.mpl.gridliner import LONGITUDE_FORMATTER, LATITUDE_FORMATTER\n",
    "\n",
    "import matplotlib.pyplot as plt\n",
    "import matplotlib.cm as mplcm\n",
    "from matplotlib.colors import LogNorm\n",
    "\n",
    "seq_cmap = mplcm.Blues\n",
    "div_cmap = mplcm.seismic\n"
   ]
  },
  {
   "cell_type": "code",
   "execution_count": 5,
   "metadata": {},
   "outputs": [],
   "source": [
    "import gcsfs\n",
    "\n",
    "fs = gcsfs.GCSFileSystem(project='pangeo-181919', token='anon', access='read_only')\n",
    "\n",
    "gcsmapgrid=gcsfs.mapping.GCSMap('pangeo-data/llc4320_surface/grid',gcs=fs,check=False,create=False)\n",
    "dsgrid=xr.open_zarr(gcsmapgrid)\n"
   ]
  },
  {
   "cell_type": "code",
   "execution_count": 6,
   "metadata": {},
   "outputs": [],
   "source": [
    "\n",
    "gcsmap=gcsfs.mapping.GCSMap('pangeo-data/llc4320_surface/U',gcs=fs,check=False,create=False)\n",
    "dsu=xr.open_zarr(gcsmap)"
   ]
  },
  {
   "cell_type": "code",
   "execution_count": 7,
   "metadata": {},
   "outputs": [],
   "source": [
    "\n",
    "gcsmap=gcsfs.mapping.GCSMap('pangeo-data/llc4320_surface/V',gcs=fs,check=False,create=False)\n",
    "dsv=xr.open_zarr(gcsmap)"
   ]
  },
  {
   "cell_type": "code",
   "execution_count": 8,
   "metadata": {},
   "outputs": [],
   "source": [
    "lat=dsgrid.sel(face=2)['YC']\n",
    "lon=dsgrid.sel(face=2)['XC']\n"
   ]
  },
  {
   "cell_type": "code",
   "execution_count": 9,
   "metadata": {},
   "outputs": [],
   "source": [
    "latmin = 40.0; latmax = 45.0;\n",
    "lonmin = -40.0; lonmax = -35.0;\n"
   ]
  },
  {
   "cell_type": "code",
   "execution_count": 10,
   "metadata": {},
   "outputs": [],
   "source": [
    "latbox=lat.where((lonmin<lon) & (lon<lonmax) & (latmin<lat) & (lat<latmax),drop=True)\n",
    "lonbox=lon.where((lonmin<lon) & (lon<lonmax) & (latmin<lat) & (lat<latmax),drop=True)"
   ]
  },
  {
   "cell_type": "code",
   "execution_count": 11,
   "metadata": {},
   "outputs": [
    {
     "name": "stderr",
     "output_type": "stream",
     "text": [
      "/srv/conda/lib/python3.6/site-packages/dask/array/blockwise.py:204: UserWarning: The da.atop function has moved to da.blockwise\n",
      "  warnings.warn(\"The da.atop function has moved to da.blockwise\")\n",
      "/srv/conda/lib/python3.6/site-packages/dask/array/blockwise.py:204: UserWarning: The da.atop function has moved to da.blockwise\n",
      "  warnings.warn(\"The da.atop function has moved to da.blockwise\")\n"
     ]
    },
    {
     "name": "stdout",
     "output_type": "stream",
     "text": [
      "Detrend data in all dimension\n",
      "Apply hanning windowing\n"
     ]
    }
   ],
   "source": [
    "u_JFM=dsu.sel(face=2,time=slice('2012-01-01','2012-03-31'))['U']\n",
    "v_JFM=dsv.sel(face=2,time=slice('2012-01-01','2012-03-31'))['V']\n",
    "\n",
    "u_JFM_i=u_JFM.rename({'i_g':'i'})\n",
    "v_JFM_j=v_JFM.rename({'j_g':'j'})\n",
    "\n",
    "u_JFM_box=u_JFM_i.where((lonmin<lon) & (lon<lonmax) & (latmin<lat) & (lat<latmax),drop=True)\n",
    "v_JFM_box=v_JFM_j.where((lonmin<lon) & (lon<lonmax) & (latmin<lat) & (lat<latmax),drop=True)\n",
    "\n",
    "# - remove NaN\n",
    "u_JFM = u_JFM_box.interpolate_na(dim='j')\n",
    "v_JFM = v_JFM_box.interpolate_na(dim='j')\n",
    "\n",
    "# - get dx and dy\n",
    "dx_JFM,dy_JFM = wfs.get_dx_dy(u_JFM[0],lonbox,latbox)\n",
    "\n",
    "\n",
    "#... Detrend data in all dimension ...\n",
    "print('Detrend data in all dimension')\n",
    "u_JFM = wfs.detrendn(u_JFM,axes=[0,1,2])\n",
    "v_JFM = wfs.detrendn(v_JFM,axes=[0,1,2])\n",
    "\n",
    "#... Apply hanning windowing ...') \n",
    "print('Apply hanning windowing')\n",
    "u_JFM = wfs.apply_window(u_JFM, u_JFM.dims, window_type='hanning')\n",
    "v_JFM = wfs.apply_window(v_JFM, v_JFM.dims, window_type='hanning')\n",
    "\n",
    "# - get derivatives\n",
    "derivatives_JFM = wfs.velocity_derivatives(u_JFM, v_JFM, xdim='i', ydim='j', dx={'i': dx_JFM, 'j': dy_JFM})\n",
    "dudx_JFM = derivatives_JFM['u_x']; dudy_JFM = derivatives_JFM['u_y']\n",
    "dvdx_JFM = derivatives_JFM['v_x']; dvdy_JFM = derivatives_JFM['v_y']\n",
    "\n",
    "# - compute terms\n",
    "phi1_JFM = u_JFM*dudx_JFM + v_JFM*dudy_JFM\n",
    "phi2_JFM = u_JFM*dvdx_JFM + v_JFM*dvdy_JFM\n",
    "\n",
    "u_JFMhat = xfft.fft(u_JFM, dim=('time', 'i', 'j'), dx={'i': dx_JFM, 'j': dx_JFM}, sym=True)\n",
    "v_JFMhat = xfft.fft(v_JFM, dim=('time', 'i', 'j'), dx={'i': dx_JFM, 'j': dx_JFM}, sym=True)\n",
    "\n",
    "phi1_JFM_hat = xfft.fft(phi1_JFM, dim=('time', 'i', 'j'), dx={'i': dx_JFM, 'j': dx_JFM}, sym=True)\n",
    "phi2_JFM_hat = xfft.fft(phi2_JFM, dim=('time', 'i', 'j'), dx={'i': dx_JFM, 'j': dx_JFM}, sym=True)\n",
    "\n",
    "tm1_JFM = (u_JFMhat.conj())*phi1_JFM_hat\n",
    "tm2_JFM = (v_JFMhat.conj())*phi2_JFM_hat\n",
    "\n",
    "# - computer transfer\n",
    "Nk_JFM,Nj_JFM,Ni_JFM = u_JFM.shape\n",
    "transfer_2D_JFM = -1.0*(tm1_JFM + tm2_JFM)/np.square(Ni_JFM*Nj_JFM)\n",
    "transfer_term_JFM = transfer_2D_JFM.real\n",
    "\n",
    "#... Get frequency and wavenumber ... \n",
    "print('Get frequency and wavenumber')\n",
    "ffrequency_JFM = u_JFMhat.f_time\n",
    "kx_JFM = u_JFMhat.f_i\n",
    "ky_JFM = u_JFMhat.f_j\n",
    "\n",
    "#... Get istropic wavenumber ... \n",
    "print('Get istropic wavenumber')\n",
    "wavenumber_JFM,kradial_JFM = wfs.get_wavnum_kradial(kx_JFM,ky_JFM)\n",
    "\n",
    "#... Get numpy array ... \n",
    "print('Get numpy array')\n",
    "var_psd_np_JFM = transfer_term_JFM.values\n",
    "\n",
    "#... Get 2D frequency-wavenumber field ... \n",
    "print('Get transfer')\n",
    "transfer_JFM = wfs.get_f_k_in_2D(kradial_JFM,wavenumber_JFM,var_psd_np_JFM) \n",
    "\n",
    "print('Get flux')\n",
    "flux_JFM = wfs.get_flux_in_1D(kradial_JFM,wavenumber_JFM,var_psd_np_JFM)\n"
   ]
  },
  {
   "cell_type": "code",
   "execution_count": 30,
   "metadata": {},
   "outputs": [
    {
     "name": "stderr",
     "output_type": "stream",
     "text": [
      "/srv/conda/lib/python3.6/site-packages/dask/array/blockwise.py:204: UserWarning: The da.atop function has moved to da.blockwise\n",
      "  warnings.warn(\"The da.atop function has moved to da.blockwise\")\n",
      "/srv/conda/lib/python3.6/site-packages/dask/array/blockwise.py:204: UserWarning: The da.atop function has moved to da.blockwise\n",
      "  warnings.warn(\"The da.atop function has moved to da.blockwise\")\n"
     ]
    },
    {
     "name": "stdout",
     "output_type": "stream",
     "text": [
      "Detrend data in all dimension\n",
      "Apply hanning windowing\n",
      "Get frequency and wavenumber\n",
      "Get istropic wavenumber\n",
      "Get numpy array\n",
      "Get transfer\n",
      "0\n",
      "100\n",
      "200\n",
      "300\n",
      "400\n",
      "500\n",
      "600\n",
      "700\n",
      "800\n",
      "900\n",
      "1000\n",
      "1100\n",
      "1200\n",
      "1300\n",
      "1400\n",
      "1500\n",
      "1600\n",
      "1700\n",
      "1800\n",
      "1900\n",
      "2000\n",
      "2100\n",
      "2200\n",
      "2300\n",
      "2400\n",
      "2500\n",
      "2600\n",
      "2700\n",
      "Get flux\n",
      "0\n",
      "100\n",
      "200\n",
      "300\n",
      "400\n",
      "500\n",
      "600\n",
      "700\n",
      "800\n",
      "900\n",
      "1000\n",
      "1100\n",
      "1200\n",
      "1300\n",
      "1400\n",
      "1500\n",
      "1600\n",
      "1700\n",
      "1800\n",
      "1900\n",
      "2000\n",
      "2100\n",
      "2200\n",
      "2300\n",
      "2400\n",
      "2500\n",
      "2600\n",
      "2700\n"
     ]
    }
   ],
   "source": [
    "u_JAS=dsu.sel(face=2,time=slice('2012-06-01','2012-09-23'))['U']\n",
    "v_JAS=dsv.sel(face=2,time=slice('2012-06-01','2012-09-23'))['V']\n",
    "\n",
    "u_JAS_i=u_JAS.rename({'i_g':'i'})\n",
    "v_JAS_j=v_JAS.rename({'j_g':'j'})\n",
    "\n",
    "u_JAS_box=u_JAS_i.where((lonmin<lon) & (lon<lonmax) & (latmin<lat) & (lat<latmax),drop=True)\n",
    "v_JAS_box=v_JAS_j.where((lonmin<lon) & (lon<lonmax) & (latmin<lat) & (lat<latmax),drop=True)\n",
    "\n",
    "# - remove NaN\n",
    "u_JAS = u_JAS_box.interpolate_na(dim='j')\n",
    "v_JAS = v_JAS_box.interpolate_na(dim='j')\n",
    "\n",
    "# - get dx and dy\n",
    "dx_JAS,dy_JAS = wfs.get_dx_dy(u_JAS[0],lonbox,latbox)\n",
    "\n",
    "\n",
    "#... Detrend data in all dimension ...\n",
    "print('Detrend data in all dimension')\n",
    "u_JAS = wfs.detrendn(u_JAS,axes=[0,1,2])\n",
    "v_JAS = wfs.detrendn(v_JAS,axes=[0,1,2])\n",
    "\n",
    "#... Apply hanning windowing ...') \n",
    "print('Apply hanning windowing')\n",
    "u_JAS = wfs.apply_window(u_JAS, u_JAS.dims, window_type='hanning')\n",
    "v_JAS = wfs.apply_window(v_JAS, v_JAS.dims, window_type='hanning')\n",
    "\n",
    "# - get derivatives\n",
    "derivatives_JAS = wfs.velocity_derivatives(u_JAS, v_JAS, xdim='i', ydim='j', dx={'i': dx_JAS, 'j': dy_JAS})\n",
    "dudx_JAS = derivatives_JAS['u_x']; dudy_JAS = derivatives_JAS['u_y']\n",
    "dvdx_JAS = derivatives_JAS['v_x']; dvdy_JAS = derivatives_JAS['v_y']\n",
    "\n",
    "# - compute terms\n",
    "phi1_JAS = u_JAS*dudx_JAS + v_JAS*dudy_JAS\n",
    "phi2_JAS = u_JAS*dvdx_JAS + v_JAS*dvdy_JAS\n",
    "\n",
    "u_JAShat = xfft.fft(u_JAS, dim=('time', 'i', 'j'), dx={'i': dx_JAS, 'j': dx_JAS}, sym=True)\n",
    "v_JAShat = xfft.fft(v_JAS, dim=('time', 'i', 'j'), dx={'i': dx_JAS, 'j': dx_JAS}, sym=True)\n",
    "\n",
    "phi1_JAS_hat = xfft.fft(phi1_JAS, dim=('time', 'i', 'j'), dx={'i': dx_JAS, 'j': dx_JAS}, sym=True)\n",
    "phi2_JAS_hat = xfft.fft(phi2_JAS, dim=('time', 'i', 'j'), dx={'i': dx_JAS, 'j': dx_JAS}, sym=True)\n",
    "\n",
    "tm1_JAS = (u_JAShat.conj())*phi1_JAS_hat\n",
    "tm2_JAS = (v_JAShat.conj())*phi2_JAS_hat\n",
    "\n",
    "# - computer transfer\n",
    "Nk_JAS,Nj_JAS,Ni_JAS = u_JAS.shape\n",
    "transfer_2D_JAS = -1.0*(tm1_JAS + tm2_JAS)/np.square(Ni_JAS*Nj_JAS)\n",
    "transfer_term_JAS = transfer_2D_JAS.real\n",
    "\n",
    "#... Get frequency and wavenumber ... \n",
    "print('Get frequency and wavenumber')\n",
    "ffrequency_JAS = u_JAShat.f_time\n",
    "kx_JAS = u_JAShat.f_i\n",
    "ky_JAS = u_JAShat.f_j\n",
    "\n",
    "#... Get istropic wavenumber ... \n",
    "print('Get istropic wavenumber')\n",
    "wavenumber_JAS,kradial_JAS = wfs.get_wavnum_kradial(kx_JAS,ky_JAS)\n",
    "\n",
    "#... Get numpy array ... \n",
    "print('Get numpy array')\n",
    "var_psd_np_JAS = transfer_term_JAS.values\n",
    "\n",
    "#... Get 2D frequency-wavenumber field ... \n",
    "print('Get transfer')\n",
    "transfer_JAS = wfs.get_f_k_in_2D(kradial_JAS,wavenumber_JAS,var_psd_np_JAS) \n",
    "\n",
    "print('Get flux')\n",
    "flux_JAS = wfs.get_flux_in_1D(kradial_JAS,wavenumber_JAS,var_psd_np_JAS)\n"
   ]
  },
  {
   "cell_type": "code",
   "execution_count": 36,
   "metadata": {},
   "outputs": [
    {
     "data": {
      "text/plain": [
       "<matplotlib.colorbar.Colorbar at 0x7f8a491323c8>"
      ]
     },
     "execution_count": 36,
     "metadata": {},
     "output_type": "execute_result"
    },
    {
     "data": {
      "image/png": "[encoded data removed]",
      "text/plain": [
       "<Figure size 2160x1440 with 4 Axes>"
      ]
     },
     "metadata": {
      "needs_background": "light"
     },
     "output_type": "display_data"
    }
   ],
   "source": [
    "sec_to_hour = 3600.0\n",
    "\n",
    "cmap = 'bwr'\n",
    "\n",
    "fig=plt.figure(figsize=(30,20))\n",
    "\n",
    "ax = plt.subplot(121)\n",
    "plt.pcolormesh(wavenumber_JFM,sec_to_hour*ffrequency_JFM,10*flux_JFM,cmap=cmap,vmin=-1,vmax=1)\n",
    "ax.set_xscale(\"log\")\n",
    "ax.set_yscale(\"log\")\n",
    "ax.set_xlabel('wavenumber (cpkm)',fontsize=15)\n",
    "ax.set_ylabel('frequency (cph)',fontsize=15)\n",
    "ax.set_xlim(wavenumber_JFM.min(),wavenumber_JFM.max())\n",
    "ax.set_ylim(1E-5,8E-1)\n",
    "ax.set_title('KE spectrum JFM Small Box 1h',size=18)\n",
    "ax.tick_params(labelsize=15)\n",
    "plt.legend\n",
    "plt.colorbar()\n",
    "\n",
    "ax = plt.subplot(122)\n",
    "plt.pcolormesh(wavenumber_JAS,sec_to_hour*ffrequency_JAS,flux_JAS,cmap=cmap,vmin=-1,vmax=1)\n",
    "ax.set_xscale(\"log\")\n",
    "ax.set_yscale(\"log\")\n",
    "ax.set_xlabel('wavenumber (cpkm)',fontsize=15)\n",
    "ax.set_ylabel('frequency (cph)',fontsize=15)\n",
    "ax.set_xlim(wavenumber_JAS.min(),wavenumber_JAS.max())\n",
    "ax.set_ylim(1E-5,8E-1)\n",
    "ax.set_title('KE spectrum JAS Small Box 1h',size=18)\n",
    "ax.tick_params(labelsize=15)\n",
    "plt.legend\n",
    "plt.colorbar()\n"
   ]
  },
  {
   "cell_type": "code",
   "execution_count": null,
   "metadata": {},
   "outputs": [],
   "source": []
  }
 ],
 "metadata": {
  "kernelspec": {
   "display_name": "Python 3",
   "language": "python",
   "name": "python3"
  },
  "language_info": {
   "codemirror_mode": {
    "name": "ipython",
    "version": 3
   },
   "file_extension": ".py",
   "mimetype": "text/x-python",
   "name": "python",
   "nbconvert_exporter": "python",
   "pygments_lexer": "ipython3",
   "version": "3.6.7"
  }
 },
 "nbformat": 4,
 "nbformat_minor": 2
}
