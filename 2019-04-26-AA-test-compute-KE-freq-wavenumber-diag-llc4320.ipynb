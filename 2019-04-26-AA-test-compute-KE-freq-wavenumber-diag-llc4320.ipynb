{
 "cells": [
  {
   "cell_type": "code",
   "execution_count": 1,
   "metadata": {},
   "outputs": [
    {
     "name": "stderr",
     "output_type": "stream",
     "text": [
      "/srv/conda/lib/python3.6/site-packages/dask/config.py:168: YAMLLoadWarning: calling yaml.load() without Loader=... is deprecated, as the default Loader is unsafe. Please read https://msg.pyyaml.org/load for full details.\n",
      "  data = yaml.load(f.read()) or {}\n",
      "/srv/conda/lib/python3.6/site-packages/dask_kubernetes/config.py:13: YAMLLoadWarning: calling yaml.load() without Loader=... is deprecated, as the default Loader is unsafe. Please read https://msg.pyyaml.org/load for full details.\n",
      "  defaults = yaml.load(f)\n"
     ]
    },
    {
     "data": {
      "application/vnd.jupyter.widget-view+json": {
       "model_id": "194432e2ed414be599f00cb1cf158526",
       "version_major": 2,
       "version_minor": 0
      },
      "text/plain": [
       "VBox(children=(HTML(value='<h2>KubeCluster</h2>'), HBox(children=(HTML(value='\\n<div>\\n  <style scoped>\\n    .…"
      ]
     },
     "metadata": {},
     "output_type": "display_data"
    }
   ],
   "source": [
    "from dask.distributed import Client, progress\n",
    "# HPC\n",
    "# client = Client(scheduler_file='/glade/scratch/jhamman/scheduler.json')\n",
    "# client\n",
    "\n",
    "from dask_kubernetes import KubeCluster\n",
    "cluster = KubeCluster(n_workers=10)\n",
    "cluster"
   ]
  },
  {
   "cell_type": "code",
   "execution_count": 2,
   "metadata": {},
   "outputs": [
    {
     "data": {
      "text/html": [
       "<table style=\"border: 2px solid white;\">\n",
       "<tr>\n",
       "<td style=\"vertical-align: top; border: 0px solid white\">\n",
       "<h3>Client</h3>\n",
       "<ul>\n",
       "  <li><b>Scheduler: </b>tcp://10.32.2.116:40897\n",
       "  <li><b>Dashboard: </b><a href='/user/0000-0001-7783-5629/proxy/8787/status' target='_blank'>/user/0000-0001-7783-5629/proxy/8787/status</a>\n",
       "</ul>\n",
       "</td>\n",
       "<td style=\"vertical-align: top; border: 0px solid white\">\n",
       "<h3>Cluster</h3>\n",
       "<ul>\n",
       "  <li><b>Workers: </b>0</li>\n",
       "  <li><b>Cores: </b>0</li>\n",
       "  <li><b>Memory: </b>0 B</li>\n",
       "</ul>\n",
       "</td>\n",
       "</tr>\n",
       "</table>"
      ],
      "text/plain": [
       "<Client: scheduler='tcp://10.32.2.116:40897' processes=0 cores=0>"
      ]
     },
     "execution_count": 2,
     "metadata": {},
     "output_type": "execute_result"
    }
   ],
   "source": [
    "client = Client(cluster)\n",
    "client"
   ]
  },
  {
   "cell_type": "code",
   "execution_count": 3,
   "metadata": {},
   "outputs": [],
   "source": [
    "import sys, glob\n",
    "import numpy as np\n",
    "import xarray as xr\n",
    "import xscale.spectral.fft as xfft\n",
    "import Wavenum_freq_spec_func as wfs\n"
   ]
  },
  {
   "cell_type": "code",
   "execution_count": 4,
   "metadata": {},
   "outputs": [],
   "source": [
    "import cartopy.crs as ccrs\n",
    "import cartopy.feature as cfeature\n",
    "from cartopy.mpl.gridliner import LONGITUDE_FORMATTER, LATITUDE_FORMATTER\n",
    "\n",
    "import matplotlib.pyplot as plt\n",
    "import matplotlib.cm as mplcm\n",
    "from matplotlib.colors import LogNorm\n",
    "\n",
    "seq_cmap = mplcm.Blues\n",
    "div_cmap = mplcm.seismic\n"
   ]
  },
  {
   "cell_type": "code",
   "execution_count": null,
   "metadata": {},
   "outputs": [],
   "source": [
    "import gcsfs\n",
    "\n",
    "fs = gcsfs.GCSFileSystem(project='pangeo-181919', token='anon', access='read_only')\n",
    "\n",
    "gcsmapgrid=gcsfs.mapping.GCSMap('pangeo-data/llc4320_surface/grid',gcs=fs,check=False,create=False)\n",
    "dsgrid=xr.open_zarr(gcsmapgrid)\n"
   ]
  },
  {
   "cell_type": "code",
   "execution_count": null,
   "metadata": {},
   "outputs": [],
   "source": [
    "\n",
    "gcsmap=gcsfs.mapping.GCSMap('pangeo-data/llc4320_surface/U',gcs=fs,check=False,create=False)\n",
    "dsu=xr.open_zarr(gcsmap)"
   ]
  },
  {
   "cell_type": "code",
   "execution_count": null,
   "metadata": {},
   "outputs": [],
   "source": [
    "\n",
    "gcsmap=gcsfs.mapping.GCSMap('pangeo-data/llc4320_surface/V',gcs=fs,check=False,create=False)\n",
    "dsv=xr.open_zarr(gcsmap)"
   ]
  },
  {
   "cell_type": "code",
   "execution_count": null,
   "metadata": {},
   "outputs": [],
   "source": [
    "lat=dsgrid.sel(face=2)['YC']\n",
    "lon=dsgrid.sel(face=2)['XC']\n"
   ]
  },
  {
   "cell_type": "code",
   "execution_count": null,
   "metadata": {},
   "outputs": [],
   "source": [
    "latmin = 40.0; latmax = 45.0;\n",
    "lonmin = -40.0; lonmax = -35.0;\n"
   ]
  },
  {
   "cell_type": "code",
   "execution_count": null,
   "metadata": {},
   "outputs": [],
   "source": [
    "latbox=lat.where((lonmin<lon) & (lon<lonmax) & (latmin<lat) & (lat<latmax),drop=True)\n",
    "lonbox=lon.where((lonmin<lon) & (lon<lonmax) & (latmin<lat) & (lat<latmax),drop=True)"
   ]
  },
  {
   "cell_type": "code",
   "execution_count": null,
   "metadata": {},
   "outputs": [],
   "source": [
    "u_JFM=dsu.sel(face=2,time=slice('2012-01-01','2012-03-31'))['U']\n",
    "v_JFM=dsv.sel(face=2,time=slice('2012-01-01','2012-03-31'))['V']\n",
    "\n",
    "u_JFM_i=u_JFM.rename({'i_g':'i'})\n",
    "v_JFM_j=v_JFM.rename({'j_g':'j'})\n",
    "\n",
    "u_JFM_box=u_JFM_i.where((lonmin<lon) & (lon<lonmax) & (latmin<lat) & (lat<latmax),drop=True)\n",
    "v_JFM_box=v_JFM_j.where((lonmin<lon) & (lon<lonmax) & (latmin<lat) & (lat<latmax),drop=True)\n",
    "\n",
    "# - remove NaN\n",
    "u = u_JFM_box.interpolate_na(dim='j')\n",
    "v = v_JFM_box.interpolate_na(dim='j')\n",
    "\n",
    "# - get dx and dy\n",
    "dx,dy = wfs.get_dx_dy(u[0],lonbox,latbox)\n",
    "\n",
    "\n",
    "#... Detrend data in all dimension ...\n",
    "print('Detrend data in all dimension')\n",
    "u = wfs.detrendn(u,axes=[0,1,2])\n",
    "v = wfs.detrendn(v,axes=[0,1,2])\n",
    "\n",
    "#... Apply hanning windowing ...') \n",
    "print('Apply hanning windowing')\n",
    "u = wfs.apply_window(u, u.dims, window_type='hanning')\n",
    "v = wfs.apply_window(v, v.dims, window_type='hanning')\n",
    "\n",
    "uhat = xfft.fft(u, dim=('time', 'i', 'j'), dx={'i': dx, 'j': dx}, sym=True)\n",
    "vhat = xfft.fft(v, dim=('time', 'i', 'j'), dx={'i': dx, 'j': dx}, sym=True)\n",
    "\n",
    "u_psd = xfft.psd(uhat)\n",
    "v_psd = xfft.psd(vhat)\n",
    "\n",
    "frequency = uhat.f_time\n",
    "kx = uhat.f_i\n",
    "ky = uhat.f_j\n",
    "\n",
    "wavenumber,kradial = wfs.get_wavnum_kradial(kx,ky)\n",
    "\n",
    "#... Get numpy array ... \n",
    "print('Get numpy array')\n",
    "u_psd_np = u_psd.values\n",
    "v_psd_np = v_psd.values\n",
    "\n",
    "u_wavenum_freq_spectrum = wfs.get_f_k_in_2D(kradial,wavenumber,u_psd_np)\n",
    "v_wavenum_freq_spectrum = wfs.get_f_k_in_2D(kradial,wavenumber,v_psd_np)\n",
    "\n",
    "KE_JFM_wavenum_freq_spectrum=0.5*(u_wavenum_freq_spectrum+v_wavenum_freq_spectrum)\n"
   ]
  },
  {
   "cell_type": "code",
   "execution_count": null,
   "metadata": {},
   "outputs": [],
   "source": [
    "u_JAS=dsu.sel(face=2,time=slice('2012-06-01','2012-09-23'))['U']\n",
    "v_JAS=dsv.sel(face=2,time=slice('2012-06-01','2012-09-23'))['V']\n",
    "\n",
    "u_JAS_i=u_JAS.rename({'i_g':'i'})\n",
    "v_JAS_j=v_JAS.rename({'j_g':'j'})\n",
    "\n",
    "u_JAS_box=u_JAS_i.where((lonmin<lon) & (lon<lonmax) & (latmin<lat) & (lat<latmax),drop=True)\n",
    "v_JAS_box=v_JAS_j.where((lonmin<lon) & (lon<lonmax) & (latmin<lat) & (lat<latmax),drop=True)\n",
    "\n",
    "# - remove NaN\n",
    "u = u_JAS_box.interpolate_na(dim='j')\n",
    "v = v_JAS_box.interpolate_na(dim='j')\n",
    "\n",
    "# - get dx and dy\n",
    "dx,dy = wfs.get_dx_dy(u[0],lonbox,latbox)\n",
    "\n",
    "\n",
    "#... Detrend data in all dimension ...\n",
    "print('Detrend data in all dimension')\n",
    "u = wfs.detrendn(u,axes=[0,1,2])\n",
    "v = wfs.detrendn(v,axes=[0,1,2])\n",
    "\n",
    "#... Apply hanning windowing ...') \n",
    "print('Apply hanning windowing')\n",
    "u = wfs.apply_window(u, u.dims, window_type='hanning')\n",
    "v = wfs.apply_window(v, v.dims, window_type='hanning')\n",
    "\n",
    "uhat = xfft.fft(u, dim=('time', 'i', 'j'), dx={'i': dx, 'j': dx}, sym=True)\n",
    "vhat = xfft.fft(v, dim=('time', 'i', 'j'), dx={'i': dx, 'j': dx}, sym=True)\n",
    "\n",
    "u_psd = xfft.psd(uhat)\n",
    "v_psd = xfft.psd(vhat)\n",
    "\n",
    "frequency = uhat.f_time\n",
    "kx = uhat.f_i\n",
    "ky = uhat.f_j\n",
    "\n",
    "wavenumber,kradial = wfs.get_wavnum_kradial(kx,ky)\n",
    "\n",
    "#... Get numpy array ... \n",
    "print('Get numpy array')\n",
    "u_psd_np = u_psd.values\n",
    "v_psd_np = v_psd.values\n",
    "\n",
    "u_wavenum_freq_spectrum = wfs.get_f_k_in_2D(kradial,wavenumber,u_psd_np)\n",
    "v_wavenum_freq_spectrum = wfs.get_f_k_in_2D(kradial,wavenumber,v_psd_np)\n",
    "\n",
    "KE_JAS_wavenum_freq_spectrum=0.5*(u_wavenum_freq_spectrum+v_wavenum_freq_spectrum)\n"
   ]
  },
  {
   "cell_type": "code",
   "execution_count": null,
   "metadata": {},
   "outputs": [],
   "source": [
    "sec_to_hour = 3600.0\n",
    "norm = LogNorm(vmin=0.001,vmax=1000)\n",
    "cmap = div_cmap\n",
    "\n",
    "fig=plt.figure(figsize=(30,20))\n",
    "\n",
    "ax = plt.subplot(121)\n",
    "plt.pcolormesh(wavenumber,sec_to_hour*frequency,KE_JFM_wavenum_freq_spectrum,norm=norm,cmap=cmap)\n",
    "ax.set_xscale(\"log\")\n",
    "ax.set_yscale(\"log\")\n",
    "ax.set_xlabel('wavenumber (cpkm)',fontsize=15)\n",
    "ax.set_ylabel('frequency (cph)',fontsize=15)\n",
    "ax.set_xlim(wavenumber.min(),wavenumber.max())\n",
    "ax.set_ylim(1E-5,8E-1)\n",
    "ax.set_title('KE spectrum JFM Small Box 1h',size=18)\n",
    "ax.tick_params(labelsize=15)\n",
    "plt.legend\n",
    "plt.colorbar()\n",
    "\n",
    "ax = plt.subplot(122)\n",
    "plt.pcolormesh(wavenumber,sec_to_hour*frequency,KE_JAS_wavenum_freq_spectrum,norm=norm,cmap=cmap)\n",
    "ax.set_xscale(\"log\")\n",
    "ax.set_yscale(\"log\")\n",
    "ax.set_xlabel('wavenumber (cpkm)',fontsize=15)\n",
    "ax.set_ylabel('frequency (cph)',fontsize=15)\n",
    "ax.set_xlim(wavenumber.min(),wavenumber.max())\n",
    "ax.set_ylim(1E-5,8E-1)\n",
    "ax.set_title('KE spectrum JAS Small Box 1h',size=18)\n",
    "ax.tick_params(labelsize=15)\n",
    "plt.legend\n",
    "plt.colorbar()\n"
   ]
  }
 ],
 "metadata": {
  "kernelspec": {
   "display_name": "Python 3",
   "language": "python",
   "name": "python3"
  },
  "language_info": {
   "codemirror_mode": {
    "name": "ipython",
    "version": 3
   },
   "file_extension": ".py",
   "mimetype": "text/x-python",
   "name": "python",
   "nbconvert_exporter": "python",
   "pygments_lexer": "ipython3",
   "version": "3.6.7"
  }
 },
 "nbformat": 4,
 "nbformat_minor": 2
}
